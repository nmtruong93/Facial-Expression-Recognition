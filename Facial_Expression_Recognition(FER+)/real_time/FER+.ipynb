{
 "cells": [
  {
   "cell_type": "markdown",
   "metadata": {},
   "source": [
    "# Data science pipeline:\n",
    "* <b>Data Preparation</b>\n",
    "* <b>Model Training</b>\n",
    "* <b>Production inference</b>"
   ]
  },
  {
   "cell_type": "markdown",
   "metadata": {},
   "source": [
    "![image.png](../assets/data_prep_wf.png)"
   ]
  },
  {
   "cell_type": "markdown",
   "metadata": {},
   "source": [
    "## Raw Data - FER2013\n",
    "* https://www.kaggle.com/c/challenges-in-representation-learning-facial-expression-recognition-challenge/data\n",
    "* 48 X 48 gray scale images\n",
    "* 28,709 training samples\n",
    "* 3,589 validation data\n",
    "* 3,589 test data\n",
    "* 7 emotion labels (0=Angry, 1=Disgust, 2=Fear, 3=Happy, 4=Sad, 5=Surprise, 6=Neutral)\n",
    "* ~60-65% human accuracy in labelling\n",
    "\n",
    "![image.png](../assets/test_raw_data.png)\n",
    "\n",
    "## Data Preparation is Critical\n",
    "* State of the Art accuracy using a Convolutional Neural Network (CNN) model directly on this raw data is **63%** [1].\n",
    "* State of the Art accuracy using a slightly modified Convolutional Neural Network (CNN) model after processing the data is **83%** [2]."
   ]
  },
  {
   "cell_type": "markdown",
   "metadata": {},
   "source": [
    "## Processed Data - FER+\n",
    "\n",
    "* FER+ has new corrected labels\n",
    "* FER+ has 8 emotions - (0: 'neutral', 1: 'happiness', 2: 'surprise', 3: 'sadness', 4: 'anger', 5: 'disgust', 6: 'fear',7: 'contempt')\n",
    "* 25,045 training samples\n",
    "* 3,191 validation data\n",
    "* 3,137 test data\n",
    "* Image augmentations:\n",
    "    * Crop faces in the images – bounding box in the FER+ dataset\n",
    "    * Scale image size from 48 X 48 -> 64 X 64\n",
    "    * Shift image\n",
    "    * Flip image\n",
    "    * Rotate (angle) image\n",
    "    * Normalize the pixels in the image"
   ]
  },
  {
   "cell_type": "markdown",
   "metadata": {},
   "source": [
    "| Emotion  | Train  | Val  |  Test |\n",
    "|---|---|---|---|\n",
    "| neutral  |8733   |  1180 | 1083  |\n",
    "| happiness  | 7284  | 862  | 892  |\n",
    "| surprise  | 3136  | 411  | 394  |\n",
    "| sadness  | 3022  | 348  | 382  |\n",
    "| anger  | 2098  |  289 |  269 |\n",
    "| disgust  | 116  | 25  | 16  |\n",
    "| fear  | 536  | 60  | 86  |\n",
    "| comtempt  | 120  | 16  | 15  |"
   ]
  },
  {
   "cell_type": "code",
   "execution_count": 1,
   "metadata": {},
   "outputs": [
    {
     "name": "stderr",
     "output_type": "stream",
     "text": [
      "Using TensorFlow backend.\n"
     ]
    }
   ],
   "source": [
    "import numpy as np\n",
    "import matplotlib.pyplot as plt\n",
    "import pandas as pd\n",
    "from keras.models import Sequential, Model, model_from_json\n",
    "from keras.layers import Dense, Conv2D, Activation, MaxPool2D, Flatten, Dropout, BatchNormalization\n",
    "from keras.utils import np_utils\n",
    "from keras.callbacks import ModelCheckpoint\n",
    "\n",
    "%matplotlib inline"
   ]
  },
  {
   "cell_type": "code",
   "execution_count": 2,
   "metadata": {},
   "outputs": [],
   "source": [
    "# 8 Emotions we want to recognize\n",
    "emotion_table = {0: 'neutral',\n",
    "                 1: 'happiness',\n",
    "                 2: 'surprise',\n",
    "                 3: 'sadness',\n",
    "                 4: 'anger',\n",
    "                 5: 'disgust',\n",
    "                 6: 'fear',\n",
    "                 7: 'contempt'}"
   ]
  },
  {
   "cell_type": "code",
   "execution_count": 3,
   "metadata": {},
   "outputs": [],
   "source": [
    "#Load  data after processed\n",
    "processed_train_images = np.load('../data/fer_train_processed_images.npy')\n",
    "processed_train_labels = np.load('../data/fer_train_processed_labels.npy')\n",
    "\n",
    "processed_val_images = np.load('../data/fer_val_processed_images.npy')\n",
    "processed_val_labels = np.load('../data/fer_val_processed_labels.npy')\n",
    "\n",
    "processed_test_images = np.load('../data/fer_test_processed_images.npy')\n",
    "processed_test_labels = np.load('../data/fer_test_processed_labels.npy')"
   ]
  },
  {
   "cell_type": "code",
   "execution_count": 4,
   "metadata": {},
   "outputs": [],
   "source": [
    "processed_train_images = processed_train_images.reshape(-1, 64, 64, 1)\n",
    "\n",
    "processed_val_images = processed_val_images.reshape(-1, 64, 64, 1)\n",
    "\n",
    "processed_test_images = processed_test_images.reshape(-1, 64, 64, 1)"
   ]
  },
  {
   "cell_type": "code",
   "execution_count": 5,
   "metadata": {
    "scrolled": true
   },
   "outputs": [
    {
     "name": "stdout",
     "output_type": "stream",
     "text": [
      "Train Set:  (25045, 64, 64, 1) (25045, 8)\n",
      "Validation Set: (3191, 64, 64, 1) (3191, 8)\n",
      "Test Set:  (3137, 64, 64, 1) (3137, 8)\n"
     ]
    }
   ],
   "source": [
    "print(\"Train Set: \", processed_train_images.shape, processed_train_labels.shape)\n",
    "print(\"Validation Set:\", processed_val_images.shape, processed_val_labels.shape)\n",
    "print(\"Test Set: \", processed_test_images.shape, processed_test_labels.shape)"
   ]
  },
  {
   "cell_type": "code",
   "execution_count": 6,
   "metadata": {},
   "outputs": [
    {
     "name": "stdout",
     "output_type": "stream",
     "text": [
      "\n",
      " [0. 0. 1. 0. 0. 0. 0. 0.]\n"
     ]
    },
    {
     "data": {
      "image/png": "[encoded data removed]",
      "text/plain": [
       "<Figure size 432x288 with 1 Axes>"
      ]
     },
     "metadata": {
      "needs_background": "light"
     },
     "output_type": "display_data"
    }
   ],
   "source": [
    "plt.imshow(processed_train_images[987].reshape(64, 64), cmap='gray')\n",
    "print(\"\\n\", processed_train_labels[987])"
   ]
  },
  {
   "cell_type": "markdown",
   "metadata": {},
   "source": [
    "![image.png](../assets/model_training_prep_wf.png)"
   ]
  },
  {
   "cell_type": "markdown",
   "metadata": {},
   "source": [
    "## Step1: Construct the Neural Network"
   ]
  },
  {
   "cell_type": "markdown",
   "metadata": {},
   "source": [
    "### 13 layer VGGNet\n",
    "![image.png](../assets/network.png)"
   ]
  },
  {
   "cell_type": "code",
   "execution_count": 7,
   "metadata": {},
   "outputs": [
    {
     "name": "stdout",
     "output_type": "stream",
     "text": [
      "_________________________________________________________________\n",
      "Layer (type)                 Output Shape              Param #   \n",
      "=================================================================\n",
      "conv2d_1 (Conv2D)            (None, 64, 64, 64)        640       \n",
      "_________________________________________________________________\n",
      "batch_normalization_1 (Batch (None, 64, 64, 64)        256       \n",
      "_________________________________________________________________\n",
      "activation_1 (Activation)    (None, 64, 64, 64)        0         \n",
      "_________________________________________________________________\n",
      "conv2d_2 (Conv2D)            (None, 64, 64, 64)        36928     \n",
      "_________________________________________________________________\n",
      "batch_normalization_2 (Batch (None, 64, 64, 64)        256       \n",
      "_________________________________________________________________\n",
      "activation_2 (Activation)    (None, 64, 64, 64)        0         \n",
      "_________________________________________________________________\n",
      "max_pooling2d_1 (MaxPooling2 (None, 32, 32, 64)        0         \n",
      "_________________________________________________________________\n",
      "dropout_1 (Dropout)          (None, 32, 32, 64)        0         \n",
      "_________________________________________________________________\n",
      "conv2d_3 (Conv2D)            (None, 32, 32, 128)       73856     \n",
      "_________________________________________________________________\n",
      "batch_normalization_3 (Batch (None, 32, 32, 128)       512       \n",
      "_________________________________________________________________\n",
      "activation_3 (Activation)    (None, 32, 32, 128)       0         \n",
      "_________________________________________________________________\n",
      "conv2d_4 (Conv2D)            (None, 32, 32, 128)       147584    \n",
      "_________________________________________________________________\n",
      "batch_normalization_4 (Batch (None, 32, 32, 128)       512       \n",
      "_________________________________________________________________\n",
      "activation_4 (Activation)    (None, 32, 32, 128)       0         \n",
      "_________________________________________________________________\n",
      "max_pooling2d_2 (MaxPooling2 (None, 16, 16, 128)       0         \n",
      "_________________________________________________________________\n",
      "dropout_2 (Dropout)          (None, 16, 16, 128)       0         \n",
      "_________________________________________________________________\n",
      "conv2d_5 (Conv2D)            (None, 16, 16, 256)       295168    \n",
      "_________________________________________________________________\n",
      "batch_normalization_5 (Batch (None, 16, 16, 256)       1024      \n",
      "_________________________________________________________________\n",
      "activation_5 (Activation)    (None, 16, 16, 256)       0         \n",
      "_________________________________________________________________\n",
      "conv2d_6 (Conv2D)            (None, 16, 16, 256)       590080    \n",
      "_________________________________________________________________\n",
      "batch_normalization_6 (Batch (None, 16, 16, 256)       1024      \n",
      "_________________________________________________________________\n",
      "activation_6 (Activation)    (None, 16, 16, 256)       0         \n",
      "_________________________________________________________________\n",
      "conv2d_7 (Conv2D)            (None, 16, 16, 256)       590080    \n",
      "_________________________________________________________________\n",
      "batch_normalization_7 (Batch (None, 16, 16, 256)       1024      \n",
      "_________________________________________________________________\n",
      "activation_7 (Activation)    (None, 16, 16, 256)       0         \n",
      "_________________________________________________________________\n",
      "max_pooling2d_3 (MaxPooling2 (None, 8, 8, 256)         0         \n",
      "_________________________________________________________________\n",
      "dropout_3 (Dropout)          (None, 8, 8, 256)         0         \n",
      "_________________________________________________________________\n",
      "conv2d_8 (Conv2D)            (None, 8, 8, 256)         590080    \n",
      "_________________________________________________________________\n",
      "batch_normalization_8 (Batch (None, 8, 8, 256)         1024      \n",
      "_________________________________________________________________\n",
      "activation_8 (Activation)    (None, 8, 8, 256)         0         \n",
      "_________________________________________________________________\n",
      "conv2d_9 (Conv2D)            (None, 8, 8, 256)         590080    \n",
      "_________________________________________________________________\n",
      "batch_normalization_9 (Batch (None, 8, 8, 256)         1024      \n",
      "_________________________________________________________________\n",
      "activation_9 (Activation)    (None, 8, 8, 256)         0         \n",
      "_________________________________________________________________\n",
      "conv2d_10 (Conv2D)           (None, 8, 8, 256)         590080    \n",
      "_________________________________________________________________\n",
      "batch_normalization_10 (Batc (None, 8, 8, 256)         1024      \n",
      "_________________________________________________________________\n",
      "activation_10 (Activation)   (None, 8, 8, 256)         0         \n",
      "_________________________________________________________________\n",
      "max_pooling2d_4 (MaxPooling2 (None, 4, 4, 256)         0         \n",
      "_________________________________________________________________\n",
      "dropout_4 (Dropout)          (None, 4, 4, 256)         0         \n",
      "_________________________________________________________________\n",
      "flatten_1 (Flatten)          (None, 4096)              0         \n",
      "_________________________________________________________________\n",
      "dense_1 (Dense)              (None, 1024)              4195328   \n",
      "_________________________________________________________________\n",
      "batch_normalization_11 (Batc (None, 1024)              4096      \n",
      "_________________________________________________________________\n",
      "activation_11 (Activation)   (None, 1024)              0         \n",
      "_________________________________________________________________\n",
      "dropout_5 (Dropout)          (None, 1024)              0         \n",
      "_________________________________________________________________\n",
      "dense_2 (Dense)              (None, 1024)              1049600   \n",
      "_________________________________________________________________\n",
      "batch_normalization_12 (Batc (None, 1024)              4096      \n",
      "_________________________________________________________________\n",
      "activation_12 (Activation)   (None, 1024)              0         \n",
      "_________________________________________________________________\n",
      "dropout_6 (Dropout)          (None, 1024)              0         \n",
      "_________________________________________________________________\n",
      "dense_3 (Dense)              (None, 8)                 8200      \n",
      "_________________________________________________________________\n",
      "activation_13 (Activation)   (None, 8)                 0         \n",
      "=================================================================\n",
      "Total params: 8,773,576\n",
      "Trainable params: 8,765,640\n",
      "Non-trainable params: 7,936\n",
      "_________________________________________________________________\n"
     ]
    }
   ],
   "source": [
    "model = Sequential()\n",
    "\n",
    "model.add(Conv2D(filters=64, kernel_size=3, padding=\"same\", input_shape=(64, 64, 1), \n",
    "                 data_format='channels_last', kernel_initializer=\"he_normal\"))\n",
    "model.add(BatchNormalization())\n",
    "model.add(Activation(\"relu\"))\n",
    "\n",
    "model.add(Conv2D(filters=64, kernel_size=3, padding=\"same\"))\n",
    "model.add(BatchNormalization())\n",
    "model.add(Activation(\"relu\"))\n",
    "model.add(MaxPool2D(pool_size=(2, 2), strides=2))\n",
    "model.add(Dropout(0.25))\n",
    "\n",
    "model.add(Conv2D(filters=128, kernel_size=3, padding=\"same\"))\n",
    "model.add(BatchNormalization())\n",
    "model.add(Activation(\"relu\"))\n",
    "          \n",
    "model.add(Conv2D(filters=128, kernel_size=3, padding=\"same\"))\n",
    "model.add(BatchNormalization())\n",
    "model.add(Activation(\"relu\"))\n",
    "model.add(MaxPool2D(pool_size=(2, 2), strides=2))\n",
    "model.add(Dropout(0.25))\n",
    "\n",
    "model.add(Conv2D(filters=256, kernel_size=3, padding=\"same\"))\n",
    "model.add(BatchNormalization())\n",
    "model.add(Activation(\"relu\"))\n",
    "          \n",
    "model.add(Conv2D(filters=256, kernel_size=3, padding=\"same\"))\n",
    "model.add(BatchNormalization())\n",
    "model.add(Activation(\"relu\"))          \n",
    "\n",
    "model.add(Conv2D(filters=256, kernel_size=3, padding=\"same\"))\n",
    "model.add(BatchNormalization())\n",
    "model.add(Activation(\"relu\"))\n",
    "model.add(MaxPool2D(pool_size=(2, 2), strides=2))\n",
    "model.add(Dropout(0.25))\n",
    "\n",
    "model.add(Conv2D(filters=256, kernel_size=3, padding=\"same\"))\n",
    "model.add(BatchNormalization())\n",
    "model.add(Activation(\"relu\"))         \n",
    "          \n",
    "model.add(Conv2D(filters=256, kernel_size=3, padding=\"same\"))\n",
    "model.add(BatchNormalization())\n",
    "model.add(Activation(\"relu\"))          \n",
    "          \n",
    "model.add(Conv2D(filters=256, kernel_size=3, padding=\"same\"))\n",
    "model.add(BatchNormalization())\n",
    "model.add(Activation(\"relu\"))\n",
    "model.add(MaxPool2D(pool_size=(2, 2), strides=2))\n",
    "model.add(Dropout(0.25))\n",
    "\n",
    "\n",
    "model.add(Flatten())\n",
    "          \n",
    "model.add(Dense(units=1024))\n",
    "model.add(BatchNormalization())\n",
    "model.add(Activation(\"relu\"))\n",
    "model.add(Dropout(0.5))\n",
    "          \n",
    "model.add(Dense(units=1024))\n",
    "model.add(BatchNormalization())\n",
    "model.add(Activation(\"relu\"))\n",
    "model.add(Dropout(0.5))\n",
    "          \n",
    "model.add(Dense(units=8))\n",
    "model.add(Activation('softmax'))\n",
    "\n",
    "model.compile(loss='categorical_crossentropy', optimizer='adam', metrics=['accuracy'])\n",
    "model.summary()"
   ]
  },
  {
   "cell_type": "code",
   "execution_count": 8,
   "metadata": {
    "scrolled": true
   },
   "outputs": [
    {
     "name": "stdout",
     "output_type": "stream",
     "text": [
      "Train on 25045 samples, validate on 3191 samples\n",
      "Epoch 1/30\n",
      " - 287s - loss: 1.7350 - acc: 0.3985 - val_loss: 2.3330 - val_acc: 0.3986\n",
      "\n",
      "Epoch 00001: val_loss improved from inf to 2.33296, saving model to fer_model.h5\n",
      "Epoch 2/30\n",
      " - 264s - loss: 1.2478 - acc: 0.5718 - val_loss: 1.7623 - val_acc: 0.5503\n",
      "\n",
      "Epoch 00002: val_loss improved from 2.33296 to 1.76229, saving model to fer_model.h5\n",
      "Epoch 3/30\n",
      " - 263s - loss: 0.9764 - acc: 0.6595 - val_loss: 0.8958 - val_acc: 0.6985\n",
      "\n",
      "Epoch 00003: val_loss improved from 1.76229 to 0.89579, saving model to fer_model.h5\n",
      "Epoch 4/30\n",
      " - 264s - loss: 0.8179 - acc: 0.7134 - val_loss: 0.7491 - val_acc: 0.7393\n",
      "\n",
      "Epoch 00004: val_loss improved from 0.89579 to 0.74908, saving model to fer_model.h5\n",
      "Epoch 5/30\n",
      " - 263s - loss: 0.7348 - acc: 0.7409 - val_loss: 0.8207 - val_acc: 0.7223\n",
      "\n",
      "Epoch 00005: val_loss did not improve from 0.74908\n",
      "Epoch 6/30\n",
      " - 264s - loss: 0.6701 - acc: 0.7619 - val_loss: 0.8643 - val_acc: 0.6898\n",
      "\n",
      "Epoch 00006: val_loss did not improve from 0.74908\n",
      "Epoch 7/30\n",
      " - 264s - loss: 0.6171 - acc: 0.7807 - val_loss: 0.6932 - val_acc: 0.7662\n",
      "\n",
      "Epoch 00007: val_loss improved from 0.74908 to 0.69321, saving model to fer_model.h5\n",
      "Epoch 8/30\n",
      " - 264s - loss: 0.5702 - acc: 0.7971 - val_loss: 0.7020 - val_acc: 0.7806\n",
      "\n",
      "Epoch 00008: val_loss did not improve from 0.69321\n",
      "Epoch 9/30\n",
      " - 264s - loss: 0.5294 - acc: 0.8091 - val_loss: 0.6347 - val_acc: 0.7791\n",
      "\n",
      "Epoch 00009: val_loss improved from 0.69321 to 0.63465, saving model to fer_model.h5\n",
      "Epoch 10/30\n",
      " - 264s - loss: 0.4978 - acc: 0.8211 - val_loss: 0.5890 - val_acc: 0.8010\n",
      "\n",
      "Epoch 00010: val_loss improved from 0.63465 to 0.58901, saving model to fer_model.h5\n",
      "Epoch 11/30\n",
      " - 264s - loss: 0.4522 - acc: 0.8355 - val_loss: 0.7988 - val_acc: 0.7916\n",
      "\n",
      "Epoch 00011: val_loss did not improve from 0.58901\n",
      "Epoch 12/30\n",
      " - 264s - loss: 0.4258 - acc: 0.8458 - val_loss: 0.6062 - val_acc: 0.8054\n",
      "\n",
      "Epoch 00012: val_loss did not improve from 0.58901\n",
      "Epoch 13/30\n",
      " - 264s - loss: 0.3971 - acc: 0.8566 - val_loss: 0.6135 - val_acc: 0.7875\n",
      "\n",
      "Epoch 00013: val_loss did not improve from 0.58901\n",
      "Epoch 14/30\n",
      " - 264s - loss: 0.3608 - acc: 0.8703 - val_loss: 0.5894 - val_acc: 0.8104\n",
      "\n",
      "Epoch 00014: val_loss did not improve from 0.58901\n",
      "Epoch 15/30\n",
      " - 264s - loss: 0.3312 - acc: 0.8813 - val_loss: 0.6245 - val_acc: 0.7997\n",
      "\n",
      "Epoch 00015: val_loss did not improve from 0.58901\n",
      "Epoch 16/30\n",
      " - 1293s - loss: 0.3030 - acc: 0.8892 - val_loss: 0.6011 - val_acc: 0.8211\n",
      "\n",
      "Epoch 00016: val_loss did not improve from 0.58901\n",
      "Epoch 17/30\n",
      " - 264s - loss: 0.2684 - acc: 0.9017 - val_loss: 0.6632 - val_acc: 0.7982\n",
      "\n",
      "Epoch 00017: val_loss did not improve from 0.58901\n",
      "Epoch 18/30\n",
      " - 264s - loss: 0.2500 - acc: 0.9115 - val_loss: 0.7188 - val_acc: 0.8007\n",
      "\n",
      "Epoch 00018: val_loss did not improve from 0.58901\n",
      "Epoch 19/30\n",
      " - 264s - loss: 0.2233 - acc: 0.9182 - val_loss: 0.9213 - val_acc: 0.7659\n",
      "\n",
      "Epoch 00019: val_loss did not improve from 0.58901\n",
      "Epoch 20/30\n",
      " - 264s - loss: 0.2069 - acc: 0.9250 - val_loss: 0.6864 - val_acc: 0.8236\n",
      "\n",
      "Epoch 00020: val_loss did not improve from 0.58901\n",
      "Epoch 21/30\n",
      " - 264s - loss: 0.1820 - acc: 0.9368 - val_loss: 0.7230 - val_acc: 0.8148\n",
      "\n",
      "Epoch 00021: val_loss did not improve from 0.58901\n",
      "Epoch 22/30\n",
      " - 264s - loss: 0.1608 - acc: 0.9419 - val_loss: 0.7794 - val_acc: 0.8217\n",
      "\n",
      "Epoch 00022: val_loss did not improve from 0.58901\n",
      "Epoch 23/30\n",
      " - 1305s - loss: 0.1468 - acc: 0.9476 - val_loss: 0.6978 - val_acc: 0.8214\n",
      "\n",
      "Epoch 00023: val_loss did not improve from 0.58901\n",
      "Epoch 24/30\n",
      " - 265s - loss: 0.1448 - acc: 0.9483 - val_loss: 0.7906 - val_acc: 0.8110\n",
      "\n",
      "Epoch 00024: val_loss did not improve from 0.58901\n",
      "Epoch 25/30\n",
      " - 265s - loss: 0.1234 - acc: 0.9557 - val_loss: 0.7785 - val_acc: 0.8192\n",
      "\n",
      "Epoch 00025: val_loss did not improve from 0.58901\n",
      "Epoch 26/30\n",
      " - 264s - loss: 0.1197 - acc: 0.9578 - val_loss: 0.8069 - val_acc: 0.8207\n",
      "\n",
      "Epoch 00026: val_loss did not improve from 0.58901\n",
      "Epoch 27/30\n",
      " - 265s - loss: 0.1055 - acc: 0.9623 - val_loss: 0.8656 - val_acc: 0.8176\n",
      "\n",
      "Epoch 00027: val_loss did not improve from 0.58901\n",
      "Epoch 28/30\n",
      " - 265s - loss: 0.1055 - acc: 0.9621 - val_loss: 0.8493 - val_acc: 0.8267\n",
      "\n",
      "Epoch 00028: val_loss did not improve from 0.58901\n",
      "Epoch 29/30\n",
      " - 265s - loss: 0.0938 - acc: 0.9662 - val_loss: 0.9822 - val_acc: 0.7722\n",
      "\n",
      "Epoch 00029: val_loss did not improve from 0.58901\n",
      "Epoch 30/30\n",
      " - 265s - loss: 0.0908 - acc: 0.9663 - val_loss: 0.8897 - val_acc: 0.8179\n",
      "\n",
      "Epoch 00030: val_loss did not improve from 0.58901\n"
     ]
    }
   ],
   "source": [
    "# Save best weight\n",
    "checkpointer = ModelCheckpoint(filepath='face_model.h5', verbose=1, save_best_only=True)\n",
    "\n",
    "# Number of epochs\n",
    "epochs = 15\n",
    "\n",
    "# Run model\n",
    "hist = model.fit(processed_train_images, processed_train_labels, epochs=epochs, shuffle=True, batch_size=64,\n",
    "                 validation_data=(processed_val_images, processed_val_labels), callbacks=[checkpointer], verbose=2)\n",
    "\n",
    "# Save model to json\n",
    "model_json = model.to_json()\n",
    "with open(\"face_model.json\", \"w\") as json_file:\n",
    "    json_file.write(model_json)"
   ]
  },
  {
   "cell_type": "code",
   "execution_count": 26,
   "metadata": {
    "scrolled": true
   },
   "outputs": [
    {
     "data": {
      "image/png": "[encoded data removed]",
      "text/plain": [
       "<Figure size 1008x288 with 2 Axes>"
      ]
     },
     "metadata": {
      "needs_background": "light"
     },
     "output_type": "display_data"
    }
   ],
   "source": [
    "#Face_Model\n",
    "plt.figure(figsize=(14, 4))\n",
    "plt.suptitle('Optimizer: Adam', fontsize=10)\n",
    "# Loss plot\n",
    "plt.subplot(1, 2, 1)\n",
    "plt.ylabel('Loss', fontsize=16)\n",
    "plt.plot(hist.history['loss'], color='b', label='Training Loss')\n",
    "plt.plot(hist.history['val_loss'], color='r', label='Validation Loss')\n",
    "plt.legend(loc='upper right')\n",
    "\n",
    "#Accuracy plot\n",
    "plt.subplot(1, 2, 2)\n",
    "plt.ylabel('Accuracy', fontsize=16)\n",
    "plt.plot(hist.history['acc'], color='b', label='Training Accuracy')\n",
    "plt.plot(hist.history['val_acc'], color='r', label='Validation Accuracy')\n",
    "plt.legend(loc='lower right')\n",
    "\n",
    "plt.show()"
   ]
  },
  {
   "cell_type": "code",
   "execution_count": 27,
   "metadata": {},
   "outputs": [
    {
     "data": {
      "text/plain": [
       "[0.6659248050962535, 0.810965890978642]"
      ]
     },
     "execution_count": 27,
     "metadata": {},
     "output_type": "execute_result"
    }
   ],
   "source": [
    "#Face_Model\n",
    "score = model.evaluate(processed_test_images, processed_test_labels, verbose=0)\n",
    "score #Loss and accuracy"
   ]
  }
 ],
 "metadata": {
  "kernelspec": {
   "display_name": "Python 3",
   "language": "python",
   "name": "python3"
  },
  "language_info": {
   "codemirror_mode": {
    "name": "ipython",
    "version": 3
   },
   "file_extension": ".py",
   "mimetype": "text/x-python",
   "name": "python",
   "nbconvert_exporter": "python",
   "pygments_lexer": "ipython3",
   "version": "3.5.2"
  }
 },
 "nbformat": 4,
 "nbformat_minor": 2
}
